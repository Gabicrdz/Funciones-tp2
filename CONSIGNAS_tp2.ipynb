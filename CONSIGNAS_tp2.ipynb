{
 "cells": [
  {
   "cell_type": "code",
   "execution_count": null,
   "metadata": {},
   "outputs": [],
   "source": []
  },
  {
   "cell_type": "markdown",
   "metadata": {},
   "source": [
    "# Criterios de evaluación.\n",
    "\n",
    "* Se deben utilizar nombres de variables descriptivos y claros.\n",
    "* Cada ejercicio debe ser realizado utilizando **FUNCIONES**, NO solo codigo suelto.\n",
    "* Comentarios claros y concisos que expliquen el propósito de cada sección del código.\n",
    "* Entrega en tiempo y forma.\n",
    "* Todo el código desarrollado debe ser subido a un repositorio en GitHub.\n",
    "\n",
    "\n",
    "**Aclaración: Para resolver las actividades se debe incertar casillas de codigo entre cada actividad del cuaderno de Jupyter**"
   ]
  },
  {
   "cell_type": "markdown",
   "metadata": {},
   "source": [
    "### 1. **Bucles**\n",
    "\n",
    "   - **Actividad 1.1**: Escribir un programa que muestre el print de todo lo que el usuario introduzca hasta que el usuario escriba “salir” que terminará.\n",
    "   \n",
    "   - **Actividad 1.2**: Escribir un programa que pida al usuario un número entero y muestre por pantalla un triángulo rectángulo como el de más abajo con la cantidad de escalones indicados previamente (los numeros dentro del triangulo deben ser enteros aleatorios del 0 al 9).\n",
    "* 1\n",
    "* 3 1\n",
    "* 5 3 1\n",
    "* 7 5 3 1\n",
    "* 9 7 5 3 1"
   ]
  },
  {
   "cell_type": "code",
   "execution_count": 1,
   "metadata": {},
   "outputs": [
    {
     "name": "stdout",
     "output_type": "stream",
     "text": [
      "Escribe alguna palabra o texto, o escribe 'salir' para terminar el programa.\n",
      "\n"
     ]
    }
   ],
   "source": [
    "\n",
    "# todo: Resolución\n",
    "# ! 1\n",
    "def solicitud():\n",
    "    print(\"Escribe alguna palabra o texto, o escribe 'salir' para terminar el programa.\")\n",
    "    \n",
    "    texto = \"\"\n",
    "    while texto != \"salir\":\n",
    "        texto = input(\"> \")\n",
    "        if texto != \"salir\":\n",
    "            print(texto)\n",
    "\n",
    "def main():\n",
    "    solicitud()\n",
    "\n",
    "if __name__ == \"__main__\":\n",
    "    main()"
   ]
  },
  {
   "cell_type": "code",
   "execution_count": 2,
   "metadata": {},
   "outputs": [
    {
     "name": "stdout",
     "output_type": "stream",
     "text": [
      "4 \n",
      "8 4 \n",
      "7 1 5 \n",
      "4 5 1 5 \n"
     ]
    }
   ],
   "source": [
    "\n",
    "# todo: resolución\n",
    "# ! 2\n",
    "import random\n",
    "\n",
    "def triangulo(n):\n",
    "    for i in range(1, n + 1):\n",
    "        linea = \"\"\n",
    "        for j in range(i, 0, -1):\n",
    "            linea += str(random.randint(0, 9)) + \" \"\n",
    "        print(linea)\n",
    "\n",
    "def main():\n",
    "    try:\n",
    "        n = int(input(\"Número de escalones: \"))\n",
    "        if n <= 0:\n",
    "            print(\"Debe ser positivo\")\n",
    "            return\n",
    "        triangulo(n)\n",
    "    except:\n",
    "        print(\"Ingrese un número entero\")\n",
    "\n",
    "if __name__ == \"__main__\":\n",
    "    main()\n"
   ]
  },
  {
   "cell_type": "markdown",
   "metadata": {},
   "source": [
    "### 2. **Listas y Tuplas**\n",
    "\n",
    "   - **Actividad 1**: Escribir un programa que pida al usuario una frase y muestre por pantalla el número de veces que contiene cada vocal y la cantidad de espacios en blanco.\n",
    "\n",
    "   - **Actividad 2**: Escribir un programa que cree una matriz (con numeros aleatorios del 1 al 100) usando las dimensiones de X e Y que el usuario deberia ingresar por consola, luego crea una tupla con la matriz transpuesta y por ultimo las muestra ambas por consola .\n",
    "\n",
    "   - **Actividad 3**: Escribir un programa que almacene en una lista los siguientes precios, 50, 75, 46, 22, 80, 65, 8, y muestre por pantalla el menor y el mayor de los precios"
   ]
  },
  {
   "cell_type": "code",
   "execution_count": 11,
   "metadata": {},
   "outputs": [
    {
     "name": "stdout",
     "output_type": "stream",
     "text": [
      "La vocal 'a' aparece 2 veces\n",
      "La vocal 'e' aparece 1 veces\n",
      "La vocal 'i' aparece 0 veces\n",
      "La vocal 'o' aparece 3 veces\n",
      "La vocal 'u' aparece 0 veces\n",
      "Hay 2 espacios en blanco\n"
     ]
    }
   ],
   "source": [
    "\n",
    "# todo: Resolución\n",
    "# ! 1\n",
    "def contar_vocales(frase):\n",
    "    contadores = [0, 0, 0, 0, 0, 0]\n",
    "    vocales = ['a', 'e', 'i', 'o', 'u']\n",
    "    \n",
    "    frase = frase.lower()\n",
    "    \n",
    "    for caracter in frase:\n",
    "        if caracter in vocales:\n",
    "            indice = vocales.index(caracter)\n",
    "            contadores[indice] += 1\n",
    "        elif caracter == ' ':\n",
    "            contadores[5] += 1\n",
    "    \n",
    "    return contadores\n",
    "\n",
    "def main():\n",
    "    frase = input(\"Introduce una frase: \")\n",
    "    \n",
    "    resultados = contar_vocales(frase)\n",
    "    \n",
    "    vocales = ['a', 'e', 'i', 'o', 'u']\n",
    "    for i in range(5):\n",
    "        print(f\"La vocal '{vocales[i]}' aparece {resultados[i]} veces\")\n",
    "    \n",
    "    print(f\"Hay {resultados[5]} espacios en blanco\")\n",
    "\n",
    "if __name__ == \"__main__\":\n",
    "    main()"
   ]
  },
  {
   "cell_type": "code",
   "execution_count": null,
   "metadata": {},
   "outputs": [
    {
     "name": "stdout",
     "output_type": "stream",
     "text": [
      "\n",
      "Generando matriz...\n",
      "\n",
      "Matriz original:\n",
      " 22  37  50  65  39 \n",
      " 85  72   3  88  22 \n",
      " 29  11  76  71  48 \n",
      " 16  23  52  18  61 \n",
      "\n",
      "Matriz transpuesta (como tupla):\n",
      " 22  85  29  16 \n",
      " 37  72  11  23 \n",
      " 50   3  76  52 \n",
      " 65  88  71  18 \n",
      " 39  22  48  61 \n"
     ]
    }
   ],
   "source": [
    "\n",
    "# todo: Resolución\n",
    "# ! 2\n",
    "import random\n",
    "\n",
    "def crear_matriz(filas, columnas):\n",
    "    matriz = []\n",
    "    for i in range(filas):\n",
    "        fila = []\n",
    "        for j in range(columnas):\n",
    "            fila.append(random.randint(1, 100))\n",
    "        matriz.append(fila)\n",
    "    return matriz\n",
    "\n",
    "def transponer_matriz(matriz, filas, columnas):\n",
    "    transpuesta = []\n",
    "    for j in range(columnas):\n",
    "        fila_traspuesta = []\n",
    "        for i in range(filas):\n",
    "            fila_traspuesta.append(matriz[i][j])\n",
    "        transpuesta.append(fila_traspuesta)\n",
    "    return tuple(transpuesta)\n",
    "\n",
    "def mostrar_matriz(matriz):\n",
    "    for fila in matriz:\n",
    "        for elemento in fila:\n",
    "            print(f\"{elemento:3d}\", end=\" \")\n",
    "        print()\n",
    "\n",
    "def main():\n",
    "    try:\n",
    "        x = int(input(\"Ingrese el número de filas (X): \"))\n",
    "        y = int(input(\"Ingrese el número de columnas (Y): \"))\n",
    "        \n",
    "        if x <= 0 or y <= 0:\n",
    "            print(\"Las dimensiones deben ser números positivos.\")\n",
    "            return\n",
    "            \n",
    "        print(\"\\nGenerando matriz...\")\n",
    "        matriz = crear_matriz(x, y)\n",
    "        \n",
    "        print(\"\\nMatriz original:\")\n",
    "        mostrar_matriz(matriz)\n",
    "        \n",
    "        matriz_traspuesta = transponer_matriz(matriz, x, y)\n",
    "        \n",
    "        print(\"\\nMatriz traspuesta:\")\n",
    "        mostrar_matriz(matriz_traspuesta)\n",
    "        \n",
    "    except ValueError:\n",
    "        print(\"Debe ingresar números enteros para las dimensiones de la matriz.\")\n",
    "\n",
    "if __name__ == \"__main__\":\n",
    "    main()"
   ]
  },
  {
   "cell_type": "code",
   "execution_count": 13,
   "metadata": {},
   "outputs": [
    {
     "name": "stdout",
     "output_type": "stream",
     "text": [
      "Lista de precios: [50, 75, 46, 22, 80, 65, 8]\n",
      "El precio menor es: 8\n",
      "El precio mayor es: 80\n"
     ]
    }
   ],
   "source": [
    "\n",
    "# todo: Resolución\n",
    "# ! 3\n",
    "def menor_o_mayor(precios):\n",
    "    menor = precios[0]\n",
    "    mayor = precios[0]\n",
    "    \n",
    "    for precio in precios:\n",
    "        if precio < menor:\n",
    "            menor = precio\n",
    "        if precio > mayor:\n",
    "            mayor = precio\n",
    "    \n",
    "    return menor, mayor\n",
    "\n",
    "def main():\n",
    "    precios = [50, 75, 46, 22, 80, 65, 8]\n",
    "    \n",
    "    precio_menor, precio_mayor = menor_o_mayor(precios)\n",
    "    \n",
    "    print(f\"Lista de precios: {precios}\")\n",
    "    print(f\"El precio menor es: {precio_menor}\")\n",
    "    print(f\"El precio mayor es: {precio_mayor}\")\n",
    "\n",
    "if __name__ == \"__main__\":\n",
    "    main()"
   ]
  },
  {
   "cell_type": "markdown",
   "metadata": {},
   "source": [
    "### 3. **Diccionarios**\n",
    "\n",
    "   - **Actividad 1**: Escribir un programa que cree un diccionario simulando una cesta de la compra. El programa debe preguntar el artículo y su precio y añadir el par al diccionario, hasta que el usuario decida terminar. Después se debe mostrar por pantalla la lista de la compra y el coste total, con el siguiente formato.\n",
    "\n",
    "   | arts  |precio |\n",
    "   |-------|-------|\n",
    "   |art 1  |1      |\n",
    "   |art 2  |2      |\n",
    "   |art 3  |3      |\n",
    "   |total  |6      |\n",
    "\n",
    "   - **Actividad 2**: Escribir un programa que cree un diccionario de traducción español-inglés. El usuario introducirá las palabras en español e inglés separadas por dos puntos, y cada par <palabra> : <traducción> separados por comas (es decir, solo se debe usar **UNA VEZ** la función input para la carga de palabras). El programa debe crear un diccionario con las palabras y sus traducciones. Después pedirá una frase en español y utilizará el diccionario para traducirla palabra a palabra. Si una palabra no está en el diccionario debe dejarla sin traducir.\n",
    "\n",
    "   - **Actividad 3**: Escribir un programa que reciba una cadena de caracteres y devuelva un diccionario con cada palabra que contiene y su frecuencia. Escribir otra función que reciba el diccionario generado con la función anterior y devuelva una tupla con la palabra más repetida y su frecuencia."
   ]
  },
  {
   "cell_type": "code",
   "execution_count": 6,
   "metadata": {},
   "outputs": [],
   "source": [
    "\n",
    "# todo: Resolución\n",
    "\n",
    "# ! 1"
   ]
  },
  {
   "cell_type": "code",
   "execution_count": 7,
   "metadata": {},
   "outputs": [],
   "source": [
    "\n",
    "# todo: Resolución\n",
    "\n",
    "# ! 2"
   ]
  },
  {
   "cell_type": "code",
   "execution_count": 8,
   "metadata": {},
   "outputs": [],
   "source": [
    "\n",
    "# todo: Resolución\n",
    "\n",
    "# ! 3"
   ]
  },
  {
   "cell_type": "markdown",
   "metadata": {},
   "source": [
    "### 4. **Funciones**\n",
    "\n",
    "- **Actividad 1**: Escribir una función que calcule el total de una factura tras aplicarle el IVA. La función debe recibir la cantidad sin IVA y el porcentaje de IVA a aplicar, y devolver el total de la factura. Si se invoca la función sin pasarle el porcentaje de IVA, deberá aplicar un 21%.\n",
    "\n",
    "- **Actividad 2**: Escribir una función que reciba un número entero positivo y devuelva su factorial.\n"
   ]
  },
  {
   "cell_type": "code",
   "execution_count": 9,
   "metadata": {},
   "outputs": [],
   "source": [
    "\n",
    "# todo: Resolución\n",
    "\n",
    "# ! 1"
   ]
  },
  {
   "cell_type": "code",
   "execution_count": 10,
   "metadata": {},
   "outputs": [],
   "source": [
    "\n",
    "# todo: Resolución\n",
    "\n",
    "# ! 2"
   ]
  }
 ],
 "metadata": {
  "kernelspec": {
   "display_name": "Python 3",
   "language": "python",
   "name": "python3"
  },
  "language_info": {
   "codemirror_mode": {
    "name": "ipython",
    "version": 3
   },
   "file_extension": ".py",
   "mimetype": "text/x-python",
   "name": "python",
   "nbconvert_exporter": "python",
   "pygments_lexer": "ipython3",
   "version": "3.12.9"
  }
 },
 "nbformat": 4,
 "nbformat_minor": 2
}
